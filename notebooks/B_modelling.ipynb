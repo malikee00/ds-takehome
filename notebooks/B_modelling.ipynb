{
 "cells": [
  {
   "cell_type": "code",
   "execution_count": 51,
   "metadata": {},
   "outputs": [],
   "source": [
    "import pandas as pd\n",
    "import seaborn as sns\n",
    "import matplotlib.pyplot as plt"
   ]
  },
  {
   "cell_type": "code",
   "execution_count": 52,
   "metadata": {},
   "outputs": [],
   "source": [
    "df = pd.read_csv('C:/Users/kamil/ds-takehome/data/credit_scoring.csv', delimiter=';')"
   ]
  },
  {
   "cell_type": "markdown",
   "metadata": {},
   "source": [
    "#### A. EDA (Exploratory Data Analysis)"
   ]
  },
  {
   "cell_type": "code",
   "execution_count": 53,
   "metadata": {},
   "outputs": [
    {
     "name": "stdout",
     "output_type": "stream",
     "text": [
      "Shape (6000, 9)\n",
      "\n",
      "Data Types:\n",
      "application_id         int64\n",
      "age                    int64\n",
      "monthly_income         int64\n",
      "loan_amount            int64\n",
      "previous_defaults      int64\n",
      "credit_score           int64\n",
      "default                int64\n",
      "leak_col_good          int64\n",
      "leak_col_subtle      float64\n",
      "dtype: object\n",
      "\n",
      "Missing Values:\n",
      "application_id       0\n",
      "age                  0\n",
      "monthly_income       0\n",
      "loan_amount          0\n",
      "previous_defaults    0\n",
      "credit_score         0\n",
      "default              0\n",
      "leak_col_good        0\n",
      "leak_col_subtle      0\n",
      "dtype: int64\n"
     ]
    }
   ],
   "source": [
    "# Structure checking\n",
    "print(\"Shape\", df.shape)\n",
    "print(\"\\nData Types:\")\n",
    "print(df.dtypes)\n",
    "\n",
    "print(\"\\nMissing Values:\")\n",
    "print(df.isnull().sum())"
   ]
  },
  {
   "cell_type": "code",
   "execution_count": 54,
   "metadata": {},
   "outputs": [
    {
     "name": "stdout",
     "output_type": "stream",
     "text": [
      "\n",
      "First 5 rows:\n",
      "   application_id  age  monthly_income  loan_amount  previous_defaults  \\\n",
      "0          501000   41        13995609      5982664                  0   \n",
      "1          501001   58        13683833      3711198                  0   \n",
      "2          501002   33         9417391      7172332                  0   \n",
      "3          501003   45         6861811      8661056                  0   \n",
      "4          501004   22         5640742      4520669                  1   \n",
      "\n",
      "   credit_score  default  leak_col_good  leak_col_subtle  \n",
      "0           624        0              0           -0.040  \n",
      "1           809        0              0            0.001  \n",
      "2           647        0              0            0.077  \n",
      "3           450        0              0            0.038  \n",
      "4           816        0              0            0.020  \n"
     ]
    }
   ],
   "source": [
    "# Data preview\n",
    "print(\"\\nFirst 5 rows:\")\n",
    "print(df.head())"
   ]
  },
  {
   "cell_type": "code",
   "execution_count": 55,
   "metadata": {},
   "outputs": [
    {
     "name": "stdout",
     "output_type": "stream",
     "text": [
      "\n",
      "Descriptive Statistics:\n",
      "       application_id          age  monthly_income   loan_amount  \\\n",
      "count     6000.000000  6000.000000    6.000000e+03  6.000000e+03   \n",
      "mean    503999.500000    40.321500    1.140386e+07  8.001122e+06   \n",
      "std       1732.195139    11.300697    4.912598e+06  4.071786e+06   \n",
      "min     501000.000000    21.000000    3.000310e+06  1.000794e+06   \n",
      "25%     502499.750000    31.000000    7.163379e+06  4.440939e+06   \n",
      "50%     503999.500000    41.000000    1.129945e+07  7.982304e+06   \n",
      "75%     505499.250000    50.000000    1.573705e+07  1.153144e+07   \n",
      "max     506999.000000    59.000000    1.998622e+07  1.499858e+07   \n",
      "\n",
      "       previous_defaults  credit_score      default  leak_col_good  \\\n",
      "count        6000.000000   6000.000000  6000.000000    6000.000000   \n",
      "mean            0.243667    575.979833     0.012167       0.012167   \n",
      "std             0.484767    158.328931     0.109639       0.109639   \n",
      "min             0.000000    300.000000     0.000000       0.000000   \n",
      "25%             0.000000    438.750000     0.000000       0.000000   \n",
      "50%             0.000000    577.500000     0.000000       0.000000   \n",
      "75%             0.000000    713.000000     0.000000       0.000000   \n",
      "max             3.000000    849.000000     1.000000       1.000000   \n",
      "\n",
      "       leak_col_subtle  \n",
      "count      6000.000000  \n",
      "mean          0.011945  \n",
      "std           0.113947  \n",
      "min          -0.119000  \n",
      "25%          -0.020000  \n",
      "50%           0.000000  \n",
      "75%           0.021000  \n",
      "max           1.092000  \n"
     ]
    }
   ],
   "source": [
    "# Descriptive statistic numeric\n",
    "print(\"\\nDescriptive Statistics:\")\n",
    "print(df.describe())"
   ]
  },
  {
   "cell_type": "code",
   "execution_count": 56,
   "metadata": {},
   "outputs": [
    {
     "name": "stdout",
     "output_type": "stream",
     "text": [
      "\n",
      "Unique Values per Column:\n",
      "application_id       6000\n",
      "age                    39\n",
      "monthly_income       6000\n",
      "loan_amount          6000\n",
      "previous_defaults       4\n",
      "credit_score          550\n",
      "default                 2\n",
      "leak_col_good           2\n",
      "leak_col_subtle       239\n",
      "dtype: int64\n"
     ]
    }
   ],
   "source": [
    "# Unique column\n",
    "print(\"\\nUnique Values per Column:\")\n",
    "print(df.nunique())"
   ]
  },
  {
   "cell_type": "code",
   "execution_count": 57,
   "metadata": {},
   "outputs": [
    {
     "data": {
      "image/png": "[encoded data removed]",
      "text/plain": [
       "<Figure size 640x480 with 1 Axes>"
      ]
     },
     "metadata": {},
     "output_type": "display_data"
    }
   ],
   "source": [
    "# Showing target distribution\n",
    "sns.countplot(data=df, x='default')\n",
    "plt.title(\"Distribution of Default (Target Variable)\")\n",
    "plt.show()"
   ]
  },
  {
   "cell_type": "code",
   "execution_count": 58,
   "metadata": {},
   "outputs": [
    {
     "data": {
      "image/png": "[encoded data removed]",
      "text/plain": [
       "<Figure size 1000x600 with 2 Axes>"
      ]
     },
     "metadata": {},
     "output_type": "display_data"
    }
   ],
   "source": [
    "# Correlation numeric feature\n",
    "numeric_cols = df.select_dtypes(include=['float64', 'int64']).drop(columns=['leak_col_good', 'leak_col_subtle'], errors='ignore')\n",
    "plt.figure(figsize=(10, 6))\n",
    "sns.heatmap(numeric_cols.corr(), annot=True, cmap='coolwarm')\n",
    "plt.title(\"Correlation Matrix (Without Leakage Columns)\")\n",
    "plt.show()"
   ]
  },
  {
   "cell_type": "code",
   "execution_count": 59,
   "metadata": {},
   "outputs": [],
   "source": [
    "# Drop fitur leakage\n",
    "df_clean = df.drop(columns=['leak_col_good', 'leak_col_subtle'])"
   ]
  },
  {
   "cell_type": "code",
   "execution_count": 60,
   "metadata": {},
   "outputs": [
    {
     "data": {
      "text/html": [
       "<div>\n",
       "<style scoped>\n",
       "    .dataframe tbody tr th:only-of-type {\n",
       "        vertical-align: middle;\n",
       "    }\n",
       "\n",
       "    .dataframe tbody tr th {\n",
       "        vertical-align: top;\n",
       "    }\n",
       "\n",
       "    .dataframe thead th {\n",
       "        text-align: right;\n",
       "    }\n",
       "</style>\n",
       "<table border=\"1\" class=\"dataframe\">\n",
       "  <thead>\n",
       "    <tr style=\"text-align: right;\">\n",
       "      <th></th>\n",
       "      <th>application_id</th>\n",
       "      <th>age</th>\n",
       "      <th>monthly_income</th>\n",
       "      <th>loan_amount</th>\n",
       "      <th>previous_defaults</th>\n",
       "      <th>credit_score</th>\n",
       "      <th>default</th>\n",
       "    </tr>\n",
       "  </thead>\n",
       "  <tbody>\n",
       "    <tr>\n",
       "      <th>0</th>\n",
       "      <td>501000</td>\n",
       "      <td>41</td>\n",
       "      <td>13995609</td>\n",
       "      <td>5982664</td>\n",
       "      <td>0</td>\n",
       "      <td>624</td>\n",
       "      <td>0</td>\n",
       "    </tr>\n",
       "    <tr>\n",
       "      <th>1</th>\n",
       "      <td>501001</td>\n",
       "      <td>58</td>\n",
       "      <td>13683833</td>\n",
       "      <td>3711198</td>\n",
       "      <td>0</td>\n",
       "      <td>809</td>\n",
       "      <td>0</td>\n",
       "    </tr>\n",
       "    <tr>\n",
       "      <th>2</th>\n",
       "      <td>501002</td>\n",
       "      <td>33</td>\n",
       "      <td>9417391</td>\n",
       "      <td>7172332</td>\n",
       "      <td>0</td>\n",
       "      <td>647</td>\n",
       "      <td>0</td>\n",
       "    </tr>\n",
       "    <tr>\n",
       "      <th>3</th>\n",
       "      <td>501003</td>\n",
       "      <td>45</td>\n",
       "      <td>6861811</td>\n",
       "      <td>8661056</td>\n",
       "      <td>0</td>\n",
       "      <td>450</td>\n",
       "      <td>0</td>\n",
       "    </tr>\n",
       "    <tr>\n",
       "      <th>4</th>\n",
       "      <td>501004</td>\n",
       "      <td>22</td>\n",
       "      <td>5640742</td>\n",
       "      <td>4520669</td>\n",
       "      <td>1</td>\n",
       "      <td>816</td>\n",
       "      <td>0</td>\n",
       "    </tr>\n",
       "  </tbody>\n",
       "</table>\n",
       "</div>"
      ],
      "text/plain": [
       "   application_id  age  monthly_income  loan_amount  previous_defaults  \\\n",
       "0          501000   41        13995609      5982664                  0   \n",
       "1          501001   58        13683833      3711198                  0   \n",
       "2          501002   33         9417391      7172332                  0   \n",
       "3          501003   45         6861811      8661056                  0   \n",
       "4          501004   22         5640742      4520669                  1   \n",
       "\n",
       "   credit_score  default  \n",
       "0           624        0  \n",
       "1           809        0  \n",
       "2           647        0  \n",
       "3           450        0  \n",
       "4           816        0  "
      ]
     },
     "execution_count": 60,
     "metadata": {},
     "output_type": "execute_result"
    }
   ],
   "source": [
    "df_clean.head()"
   ]
  },
  {
   "cell_type": "code",
   "execution_count": 61,
   "metadata": {},
   "outputs": [],
   "source": [
    "# Save cleaned data\n",
    "df_clean.to_csv(\"../data/credit_scoring_cleaned.csv\", index=False)"
   ]
  },
  {
   "cell_type": "markdown",
   "metadata": {},
   "source": [
    "#### B. Baseline Logistic Reg -> GradientBoosting "
   ]
  },
  {
   "cell_type": "code",
   "execution_count": 13,
   "metadata": {},
   "outputs": [],
   "source": [
    "from sklearn.model_selection import train_test_split\n",
    "from sklearn.preprocessing import StandardScaler"
   ]
  },
  {
   "cell_type": "code",
   "execution_count": 65,
   "metadata": {},
   "outputs": [
    {
     "name": "stdout",
     "output_type": "stream",
     "text": [
      "Confusion Matrix (Logistic Regression):\n",
      " [[1184    0]\n",
      " [  16    0]]\n",
      "\n",
      "Classification Report (Logistic Regression):\n",
      "               precision    recall  f1-score   support\n",
      "\n",
      "           0       0.99      1.00      0.99      1184\n",
      "           1       0.00      0.00      0.00        16\n",
      "\n",
      "    accuracy                           0.99      1200\n",
      "   macro avg       0.49      0.50      0.50      1200\n",
      "weighted avg       0.97      0.99      0.98      1200\n",
      "\n",
      "ROC AUC Score (Logistic Regression): 0.808277027027027\n",
      "\n",
      "Confusion Matrix (Gradient Boosting):\n",
      " [[1178    6]\n",
      " [  15    1]]\n",
      "\n",
      "Classification Report (Gradient Boosting):\n",
      "               precision    recall  f1-score   support\n",
      "\n",
      "           0       0.99      0.99      0.99      1184\n",
      "           1       0.14      0.06      0.09        16\n",
      "\n",
      "    accuracy                           0.98      1200\n",
      "   macro avg       0.57      0.53      0.54      1200\n",
      "weighted avg       0.98      0.98      0.98      1200\n",
      "\n",
      "ROC AUC Score (Gradient Boosting): 0.7037848395270271\n"
     ]
    },
    {
     "name": "stderr",
     "output_type": "stream",
     "text": [
      "c:\\Users\\kamil\\AppData\\Local\\Programs\\Python\\Python311\\Lib\\site-packages\\sklearn\\metrics\\_classification.py:1565: UndefinedMetricWarning: Precision is ill-defined and being set to 0.0 in labels with no predicted samples. Use `zero_division` parameter to control this behavior.\n",
      "  _warn_prf(average, modifier, f\"{metric.capitalize()} is\", len(result))\n",
      "c:\\Users\\kamil\\AppData\\Local\\Programs\\Python\\Python311\\Lib\\site-packages\\sklearn\\metrics\\_classification.py:1565: UndefinedMetricWarning: Precision is ill-defined and being set to 0.0 in labels with no predicted samples. Use `zero_division` parameter to control this behavior.\n",
      "  _warn_prf(average, modifier, f\"{metric.capitalize()} is\", len(result))\n",
      "c:\\Users\\kamil\\AppData\\Local\\Programs\\Python\\Python311\\Lib\\site-packages\\sklearn\\metrics\\_classification.py:1565: UndefinedMetricWarning: Precision is ill-defined and being set to 0.0 in labels with no predicted samples. Use `zero_division` parameter to control this behavior.\n",
      "  _warn_prf(average, modifier, f\"{metric.capitalize()} is\", len(result))\n"
     ]
    }
   ],
   "source": [
    "from sklearn.model_selection import train_test_split\n",
    "from sklearn.preprocessing import StandardScaler\n",
    "from sklearn.linear_model import LogisticRegression\n",
    "from sklearn.ensemble import GradientBoostingClassifier\n",
    "from sklearn.metrics import classification_report, roc_auc_score, confusion_matrix\n",
    "\n",
    "# Prepare features and target\n",
    "X = df_clean.drop(columns=['application_id', 'default'])\n",
    "y = df_clean['default']\n",
    "\n",
    "# Split dataset\n",
    "X_train, X_test, y_train, y_test = train_test_split(X, y, test_size=0.2, random_state=42)\n",
    "\n",
    "# Scale features for logistic regression\n",
    "scaler = StandardScaler()\n",
    "X_train_scaled = scaler.fit_transform(X_train)\n",
    "X_test_scaled = scaler.transform(X_test)\n",
    "\n",
    "# Logistic Regression\n",
    "logreg = LogisticRegression()\n",
    "logreg.fit(X_train_scaled, y_train)\n",
    "y_pred_logreg = logreg.predict(X_test_scaled)\n",
    "y_proba_logreg = logreg.predict_proba(X_test_scaled)[:, 1]\n",
    "\n",
    "# Gradient Boosting\n",
    "gb = GradientBoostingClassifier(random_state=42)\n",
    "gb.fit(X_train, y_train)\n",
    "y_pred_gb = gb.predict(X_test)\n",
    "y_proba_gb = gb.predict_proba(X_test)[:, 1]\n",
    "\n",
    "# Evaluation for Logistic Regression\n",
    "print(\"Confusion Matrix (Logistic Regression):\\n\", confusion_matrix(y_test, y_pred_logreg))\n",
    "print(\"\\nClassification Report (Logistic Regression):\\n\", classification_report(y_test, y_pred_logreg))\n",
    "print(\"ROC AUC Score (Logistic Regression):\", roc_auc_score(y_test, y_proba_logreg))\n",
    "\n",
    "# Evaluation for Gradient Boosting\n",
    "print(\"\\nConfusion Matrix (Gradient Boosting):\\n\", confusion_matrix(y_test, y_pred_gb))\n",
    "print(\"\\nClassification Report (Gradient Boosting):\\n\", classification_report(y_test, y_pred_gb))\n",
    "print(\"ROC AUC Score (Gradient Boosting):\", roc_auc_score(y_test, y_proba_gb))\n"
   ]
  },
  {
   "cell_type": "code",
   "execution_count": 44,
   "metadata": {},
   "outputs": [],
   "source": [
    "# Splitting data\n",
    "X = df_clean.drop(columns=['default', 'application_id'])\n",
    "y = df_clean['default']\n",
    "\n",
    "X_train, X_test, y_train, y_test = train_test_split(\n",
    "    X, y, test_size= 0.2, stratify= y, random_state=42\n",
    ")\n",
    "\n",
    "# Standarization\n",
    "scaler = StandardScaler()\n",
    "X_train_scaled = scaler.fit_transform(X_train)\n",
    "X_test_scaled = scaler.transform(X_test)"
   ]
  },
  {
   "cell_type": "code",
   "execution_count": 45,
   "metadata": {},
   "outputs": [],
   "source": [
    "# Baseline Logistic Regression\n",
    "import numpy as np\n",
    "from sklearn.linear_model import LogisticRegression\n",
    "from sklearn.ensemble import GradientBoostingClassifier\n",
    "from sklearn.metrics import classification_report, confusion_matrix, roc_auc_score"
   ]
  },
  {
   "cell_type": "code",
   "execution_count": 46,
   "metadata": {},
   "outputs": [
    {
     "name": "stdout",
     "output_type": "stream",
     "text": [
      "Confusion Matrix:\n",
      " [[873 312]\n",
      " [  6   9]]\n",
      "\n",
      "Classification Report:\n",
      "               precision    recall  f1-score   support\n",
      "\n",
      "           0       0.99      0.74      0.85      1185\n",
      "           1       0.03      0.60      0.05        15\n",
      "\n",
      "    accuracy                           0.73      1200\n",
      "   macro avg       0.51      0.67      0.45      1200\n",
      "weighted avg       0.98      0.73      0.84      1200\n",
      "\n",
      "ROC AUC Score: 0.7574120956399437\n"
     ]
    }
   ],
   "source": [
    "# fit model initiation\n",
    "logreg = LogisticRegression(class_weight='balanced', random_state=42)\n",
    "logreg.fit(X_train_scaled, y_train)\n",
    "\n",
    "# prediction and probability\n",
    "y_pred_lr = logreg.predict(X_test_scaled)\n",
    "y_proba_lr = logreg.predict_proba(X_test_scaled) [:, 1]\n",
    "\n",
    "# evaluation\n",
    "print(\"Confusion Matrix:\\n\", confusion_matrix(y_test, y_pred_lr))\n",
    "print(\"\\nClassification Report:\\n\", classification_report(y_test, y_pred_lr))\n",
    "print(\"ROC AUC Score:\", roc_auc_score(y_test, y_proba_lr))"
   ]
  },
  {
   "cell_type": "code",
   "execution_count": 47,
   "metadata": {},
   "outputs": [
    {
     "name": "stdout",
     "output_type": "stream",
     "text": [
      "Confusion Matrix (GB):\n",
      " [[1183    2]\n",
      " [  15    0]]\n",
      "\n",
      "Classification Report (GB):\n",
      "               precision    recall  f1-score   support\n",
      "\n",
      "           0       0.99      1.00      0.99      1185\n",
      "           1       0.00      0.00      0.00        15\n",
      "\n",
      "    accuracy                           0.99      1200\n",
      "   macro avg       0.49      0.50      0.50      1200\n",
      "weighted avg       0.98      0.99      0.98      1200\n",
      "\n",
      "ROC AUC Score (GB): 0.6863009845288326\n"
     ]
    }
   ],
   "source": [
    "from sklearn.ensemble import GradientBoostingClassifier\n",
    "\n",
    "# Inisiasi dan fit model\n",
    "gb = GradientBoostingClassifier(random_state=42)\n",
    "gb.fit(X_train, y_train)\n",
    "\n",
    "# Prediksi & Probabilitas\n",
    "y_pred_gb = gb.predict(X_test)\n",
    "y_proba_gb = gb.predict_proba(X_test)[:, 1]\n",
    "\n",
    "# Evaluasi\n",
    "print(\"Confusion Matrix (GB):\\n\", confusion_matrix(y_test, y_pred_gb))\n",
    "print(\"\\nClassification Report (GB):\\n\", classification_report(y_test, y_pred_gb))\n",
    "print(\"ROC AUC Score (GB):\", roc_auc_score(y_test, y_proba_gb))\n"
   ]
  },
  {
   "cell_type": "code",
   "execution_count": 76,
   "metadata": {},
   "outputs": [
    {
     "name": "stdout",
     "output_type": "stream",
     "text": [
      "Best Params: {'gbc__learning_rate': 0.01, 'gbc__max_depth': 3, 'gbc__n_estimators': 300, 'gbc__subsample': 0.8}\n",
      "Confusion Matrix:\n",
      " [[755 430]\n",
      " [  6   9]]\n",
      "Classification Report:\n",
      "               precision    recall  f1-score   support\n",
      "\n",
      "           0       0.99      0.64      0.78      1185\n",
      "           1       0.02      0.60      0.04        15\n",
      "\n",
      "    accuracy                           0.64      1200\n",
      "   macro avg       0.51      0.62      0.41      1200\n",
      "weighted avg       0.98      0.64      0.77      1200\n",
      "\n",
      "ROC AUC Score: 0.6661884669479606\n"
     ]
    }
   ],
   "source": [
    "# Using SMOT and GridSearch CV\n",
    "\n",
    "from sklearn.ensemble import GradientBoostingClassifier\n",
    "from sklearn.model_selection import train_test_split, GridSearchCV\n",
    "from sklearn.metrics import classification_report, confusion_matrix, roc_auc_score\n",
    "from sklearn.preprocessing import StandardScaler\n",
    "from imblearn.over_sampling import SMOTE\n",
    "from imblearn.pipeline import Pipeline\n",
    "import pandas as pd\n",
    "\n",
    "SEED = 42\n",
    "\n",
    "X = df_clean.drop(columns=[\"default\", \"application_id\"])\n",
    "y = df_clean[\"default\"]\n",
    "X_train, X_test, y_train, y_test = train_test_split(X, y, stratify=y, test_size=0.2, random_state=SEED)\n",
    "\n",
    "pipeline = Pipeline([\n",
    "    ('scaler', StandardScaler()),\n",
    "    ('smote', SMOTE(random_state=SEED)),\n",
    "    ('gbc', GradientBoostingClassifier(random_state=SEED))\n",
    "])\n",
    "\n",
    "param_grid = {\n",
    "    'gbc__n_estimators': [100, 300],\n",
    "    'gbc__learning_rate': [0.01, 0.05],\n",
    "    'gbc__max_depth': [3, 5],\n",
    "    'gbc__subsample': [0.8, 1.0]\n",
    "}\n",
    "\n",
    "grid = GridSearchCV(pipeline, param_grid, scoring='roc_auc', cv=5, n_jobs=-1)\n",
    "grid.fit(X_train, y_train)\n",
    "\n",
    "y_proba = grid.predict_proba(X_test)[:, 1]\n",
    "y_pred = (y_proba >= 0.3).astype(int)\n",
    "\n",
    "print(\"Best Params:\", grid.best_params_)\n",
    "print(\"Confusion Matrix:\\n\", confusion_matrix(y_test, y_pred))\n",
    "print(\"Classification Report:\\n\", classification_report(y_test, y_pred))\n",
    "print(\"ROC AUC Score:\", roc_auc_score(y_test, y_proba))\n"
   ]
  },
  {
   "cell_type": "code",
   "execution_count": 79,
   "metadata": {},
   "outputs": [
    {
     "name": "stdout",
     "output_type": "stream",
     "text": [
      "Best Params: {'learning_rate': 0.05, 'max_depth': 5, 'n_estimators': 300, 'subsample': 0.8}\n",
      "\n",
      "Confusion Matrix (threshold=0.3):\n",
      " [[1072  113]\n",
      " [  13    2]]\n",
      "\n",
      "Classification Report:\n",
      "               precision    recall  f1-score   support\n",
      "\n",
      "           0       0.99      0.90      0.94      1185\n",
      "           1       0.02      0.13      0.03        15\n",
      "\n",
      "    accuracy                           0.90      1200\n",
      "   macro avg       0.50      0.52      0.49      1200\n",
      "weighted avg       0.98      0.90      0.93      1200\n",
      "\n",
      "ROC AUC Score: 0.5114486638537271\n"
     ]
    }
   ],
   "source": [
    "# Using SMOTETomek and GridSearchCV\n",
    "\n",
    "import pandas as pd\n",
    "from sklearn.ensemble import GradientBoostingClassifier\n",
    "from sklearn.model_selection import train_test_split, GridSearchCV\n",
    "from sklearn.metrics import classification_report, confusion_matrix, roc_auc_score\n",
    "from sklearn.preprocessing import StandardScaler\n",
    "from sklearn.utils.class_weight import compute_sample_weight\n",
    "from imblearn.combine import SMOTETomek\n",
    "\n",
    "SEED = 42\n",
    "\n",
    "X = df_clean.drop(columns=[\"default\", \"application_id\"])\n",
    "y = df_clean[\"default\"]\n",
    "\n",
    "X_train, X_test, y_train, y_test = train_test_split(\n",
    "    X, y, stratify=y, test_size=0.2, random_state=SEED\n",
    ")\n",
    "\n",
    "scaler = StandardScaler()\n",
    "X_train_scaled = scaler.fit_transform(X_train)\n",
    "X_test_scaled = scaler.transform(X_test)\n",
    "\n",
    "smote = SMOTETomek(random_state=SEED)\n",
    "X_resampled, y_resampled = smote.fit_resample(X_train_scaled, y_train)\n",
    "\n",
    "sample_weight = compute_sample_weight(class_weight='balanced', y=y_resampled)\n",
    "\n",
    "param_grid = {\n",
    "    'n_estimators': [100, 300],\n",
    "    'learning_rate': [0.01, 0.05],\n",
    "    'max_depth': [3, 5],\n",
    "    'subsample': [0.8, 1.0]\n",
    "}\n",
    "\n",
    "grid = GridSearchCV(\n",
    "    GradientBoostingClassifier(random_state=SEED),\n",
    "    param_grid,\n",
    "    scoring='roc_auc',\n",
    "    cv=5,\n",
    "    n_jobs=-1\n",
    ")\n",
    "\n",
    "grid.fit(X_resampled, y_resampled, sample_weight=sample_weight)\n",
    "\n",
    "y_proba = grid.predict_proba(X_test_scaled)[:, 1]\n",
    "threshold = 0.3\n",
    "y_pred = (y_proba >= threshold).astype(int)\n",
    "\n",
    "print(\"Best Params:\", grid.best_params_)\n",
    "print(\"\\nConfusion Matrix (threshold=0.3):\\n\", confusion_matrix(y_test, y_pred))\n",
    "print(\"\\nClassification Report:\\n\", classification_report(y_test, y_pred))\n",
    "print(\"ROC AUC Score:\", roc_auc_score(y_test, y_proba))"
   ]
  },
  {
   "cell_type": "code",
   "execution_count": 80,
   "metadata": {},
   "outputs": [
    {
     "name": "stderr",
     "output_type": "stream",
     "text": [
      "c:\\Users\\kamil\\AppData\\Local\\Programs\\Python\\Python311\\Lib\\site-packages\\xgboost\\training.py:183: UserWarning: [09:49:58] WARNING: C:\\actions-runner\\_work\\xgboost\\xgboost\\src\\learner.cc:738: \n",
      "Parameters: { \"use_label_encoder\" } are not used.\n",
      "\n",
      "  bst.update(dtrain, iteration=i, fobj=obj)\n"
     ]
    },
    {
     "name": "stdout",
     "output_type": "stream",
     "text": [
      "Best Params: {'xgb__learning_rate': 0.01, 'xgb__max_depth': 5, 'xgb__n_estimators': 300, 'xgb__subsample': 0.8}\n",
      "\n",
      "Confusion Matrix (threshold=0.3):\n",
      " [[598 587]\n",
      " [  7   8]]\n",
      "\n",
      "Classification Report:\n",
      "               precision    recall  f1-score   support\n",
      "\n",
      "           0       0.99      0.50      0.67      1185\n",
      "           1       0.01      0.53      0.03        15\n",
      "\n",
      "    accuracy                           0.51      1200\n",
      "   macro avg       0.50      0.52      0.35      1200\n",
      "weighted avg       0.98      0.51      0.66      1200\n",
      "\n",
      "ROC AUC Score: 0.6117018284106892\n"
     ]
    }
   ],
   "source": [
    "# Using XGB Classifier\n",
    "\n",
    "from xgboost import XGBClassifier\n",
    "from sklearn.model_selection import train_test_split, GridSearchCV\n",
    "from sklearn.metrics import classification_report, confusion_matrix, roc_auc_score\n",
    "from sklearn.preprocessing import StandardScaler\n",
    "from imblearn.pipeline import Pipeline\n",
    "from imblearn.over_sampling import SMOTE\n",
    "import pandas as pd\n",
    "\n",
    "SEED = 42\n",
    "\n",
    "X = df_clean.drop(columns=[\"default\", \"application_id\"])\n",
    "y = df_clean[\"default\"]\n",
    "\n",
    "X_train, X_test, y_train, y_test = train_test_split(X, y, stratify=y, test_size=0.2, random_state=SEED)\n",
    "\n",
    "neg = (y_train == 0).sum()\n",
    "pos = (y_train == 1).sum()\n",
    "scale = neg / pos\n",
    "\n",
    "pipeline = Pipeline([\n",
    "    ('scaler', StandardScaler()),\n",
    "    ('smote', SMOTE(random_state=SEED)),\n",
    "    ('xgb', XGBClassifier(\n",
    "        objective='binary:logistic',\n",
    "        eval_metric='auc',\n",
    "        use_label_encoder=False,\n",
    "        scale_pos_weight=scale,\n",
    "        random_state=SEED\n",
    "    ))\n",
    "])\n",
    "\n",
    "param_grid = {\n",
    "    'xgb__n_estimators': [100, 300],\n",
    "    'xgb__learning_rate': [0.01, 0.05],\n",
    "    'xgb__max_depth': [3, 5],\n",
    "    'xgb__subsample': [0.8, 1.0]\n",
    "}\n",
    "\n",
    "grid = GridSearchCV(pipeline, param_grid, scoring='roc_auc', cv=5, n_jobs=-1)\n",
    "grid.fit(X_train, y_train)\n",
    "\n",
    "y_proba = grid.predict_proba(X_test)[:, 1]\n",
    "y_pred = (y_proba >= 0.3).astype(int)\n",
    "\n",
    "print(\"Best Params:\", grid.best_params_)\n",
    "print(\"\\nConfusion Matrix (threshold=0.3):\\n\", confusion_matrix(y_test, y_pred))\n",
    "print(\"\\nClassification Report:\\n\", classification_report(y_test, y_pred))\n",
    "print(\"ROC AUC Score:\", roc_auc_score(y_test, y_proba))\n"
   ]
  },
  {
   "cell_type": "code",
   "execution_count": 81,
   "metadata": {},
   "outputs": [
    {
     "name": "stderr",
     "output_type": "stream",
     "text": [
      "c:\\Users\\kamil\\AppData\\Local\\Programs\\Python\\Python311\\Lib\\site-packages\\xgboost\\training.py:183: UserWarning: [09:53:24] WARNING: C:\\actions-runner\\_work\\xgboost\\xgboost\\src\\learner.cc:738: \n",
      "Parameters: { \"use_label_encoder\" } are not used.\n",
      "\n",
      "  bst.update(dtrain, iteration=i, fobj=obj)\n"
     ]
    },
    {
     "name": "stdout",
     "output_type": "stream",
     "text": [
      "Best Params: {'voting__xgb__learning_rate': 0.01, 'voting__xgb__max_depth': 5, 'voting__xgb__n_estimators': 100, 'voting__xgb__subsample': 1.0}\n",
      "Confusion Matrix:\n",
      " [[683 502]\n",
      " [  5  10]]\n",
      "Classification Report:\n",
      "               precision    recall  f1-score   support\n",
      "\n",
      "           0       0.99      0.58      0.73      1185\n",
      "           1       0.02      0.67      0.04        15\n",
      "\n",
      "    accuracy                           0.58      1200\n",
      "   macro avg       0.51      0.62      0.38      1200\n",
      "weighted avg       0.98      0.58      0.72      1200\n",
      "\n",
      "ROC AUC Score: 0.7160618846694795\n"
     ]
    }
   ],
   "source": [
    "# Combining Logistic Reg + XGBoost using Voting Classifier\n",
    "\n",
    "from sklearn.model_selection import train_test_split, GridSearchCV\n",
    "from sklearn.metrics import classification_report, confusion_matrix, roc_auc_score\n",
    "from sklearn.preprocessing import StandardScaler\n",
    "from sklearn.linear_model import LogisticRegression\n",
    "from sklearn.ensemble import VotingClassifier\n",
    "from imblearn.pipeline import Pipeline\n",
    "from imblearn.over_sampling import SMOTE\n",
    "from xgboost import XGBClassifier\n",
    "import pandas as pd\n",
    "\n",
    "SEED = 42\n",
    "\n",
    "X = df_clean.drop(columns=[\"default\", \"application_id\"])\n",
    "y = df_clean[\"default\"]\n",
    "\n",
    "X_train, X_test, y_train, y_test = train_test_split(\n",
    "    X, y, stratify=y, test_size=0.2, random_state=SEED\n",
    ")\n",
    "\n",
    "logreg = LogisticRegression(class_weight='balanced', random_state=SEED, max_iter=1000)\n",
    "xgb = XGBClassifier(use_label_encoder=False, eval_metric='logloss', random_state=SEED)\n",
    "\n",
    "voting_clf = VotingClassifier(\n",
    "    estimators=[\n",
    "        ('lr', logreg),\n",
    "        ('xgb', xgb)\n",
    "    ],\n",
    "    voting='soft'\n",
    ")\n",
    "\n",
    "pipeline = Pipeline([\n",
    "    ('scaler', StandardScaler()),\n",
    "    ('smote', SMOTE(random_state=SEED)),\n",
    "    ('voting', voting_clf)\n",
    "])\n",
    "\n",
    "param_grid = {\n",
    "    'voting__xgb__n_estimators': [100, 300],\n",
    "    'voting__xgb__learning_rate': [0.01, 0.05],\n",
    "    'voting__xgb__max_depth': [3, 5],\n",
    "    'voting__xgb__subsample': [0.8, 1.0]\n",
    "}\n",
    "\n",
    "grid = GridSearchCV(pipeline, param_grid, scoring='roc_auc', cv=5, n_jobs=-1)\n",
    "grid.fit(X_train, y_train)\n",
    "\n",
    "y_proba = grid.predict_proba(X_test)[:, 1]\n",
    "y_pred = (y_proba >= 0.3).astype(int)\n",
    "\n",
    "print(\"Best Params:\", grid.best_params_)\n",
    "print(\"Confusion Matrix:\\n\", confusion_matrix(y_test, y_pred))\n",
    "print(\"Classification Report:\\n\", classification_report(y_test, y_pred))\n",
    "print(\"ROC AUC Score:\", roc_auc_score(y_test, y_proba))\n"
   ]
  },
  {
   "cell_type": "code",
   "execution_count": 82,
   "metadata": {},
   "outputs": [
    {
     "name": "stderr",
     "output_type": "stream",
     "text": [
      "c:\\Users\\kamil\\AppData\\Local\\Programs\\Python\\Python311\\Lib\\site-packages\\xgboost\\training.py:183: UserWarning: [10:06:22] WARNING: C:\\actions-runner\\_work\\xgboost\\xgboost\\src\\learner.cc:738: \n",
      "Parameters: { \"use_label_encoder\" } are not used.\n",
      "\n",
      "  bst.update(dtrain, iteration=i, fobj=obj)\n"
     ]
    },
    {
     "name": "stdout",
     "output_type": "stream",
     "text": [
      "Best Threshold: 0.85\n",
      "Best Params: {'voting__xgb__learning_rate': 0.01, 'voting__xgb__max_depth': 3, 'voting__xgb__n_estimators': 100, 'voting__xgb__subsample': 1.0}\n",
      "Confusion Matrix:\n",
      " [[1082  103]\n",
      " [   9    6]]\n",
      "Classification Report:\n",
      "               precision    recall  f1-score   support\n",
      "\n",
      "           0       0.99      0.91      0.95      1185\n",
      "           1       0.06      0.40      0.10        15\n",
      "\n",
      "    accuracy                           0.91      1200\n",
      "   macro avg       0.52      0.66      0.52      1200\n",
      "weighted avg       0.98      0.91      0.94      1200\n",
      "\n",
      "ROC AUC Score: 0.710379746835443\n"
     ]
    }
   ],
   "source": [
    "# Combining + decreasing false positive\n",
    "\n",
    "from sklearn.model_selection import train_test_split, GridSearchCV, StratifiedKFold\n",
    "from sklearn.metrics import classification_report, confusion_matrix, roc_auc_score\n",
    "from sklearn.preprocessing import StandardScaler\n",
    "from sklearn.linear_model import LogisticRegression\n",
    "from sklearn.ensemble import VotingClassifier\n",
    "from imblearn.pipeline import Pipeline\n",
    "from imblearn.over_sampling import SMOTE\n",
    "from xgboost import XGBClassifier\n",
    "import pandas as pd\n",
    "import numpy as np\n",
    "\n",
    "SEED = 42\n",
    "\n",
    "X = df_clean.drop(columns=[\"default\", \"application_id\"])\n",
    "y = df_clean[\"default\"]\n",
    "X_train, X_test, y_train, y_test = train_test_split(\n",
    "    X, y, stratify=y, test_size=0.2, random_state=SEED\n",
    ")\n",
    "\n",
    "logreg = LogisticRegression(class_weight='balanced', max_iter=1000, random_state=SEED)\n",
    "xgb = XGBClassifier(\n",
    "    use_label_encoder=False,\n",
    "    eval_metric='logloss',\n",
    "    scale_pos_weight=(y_train == 0).sum() / (y_train == 1).sum(),  \n",
    "    random_state=SEED\n",
    ")\n",
    "\n",
    "voting_clf = VotingClassifier(\n",
    "    estimators=[\n",
    "        ('lr', logreg),\n",
    "        ('xgb', xgb)\n",
    "    ],\n",
    "    voting='soft'\n",
    ")\n",
    "\n",
    "pipeline = Pipeline([\n",
    "    ('scaler', StandardScaler()),\n",
    "    ('smote', SMOTE(random_state=SEED)),\n",
    "    ('voting', voting_clf)\n",
    "])\n",
    "\n",
    "param_grid = {\n",
    "    'voting__xgb__n_estimators': [100],\n",
    "    'voting__xgb__learning_rate': [0.01],\n",
    "    'voting__xgb__max_depth': [3],\n",
    "    'voting__xgb__subsample': [1.0]\n",
    "}\n",
    "\n",
    "cv = StratifiedKFold(n_splits=5, shuffle=True, random_state=SEED)\n",
    "\n",
    "grid = GridSearchCV(pipeline, param_grid, scoring='roc_auc', cv=cv, n_jobs=-1)\n",
    "grid.fit(X_train, y_train)\n",
    "\n",
    "y_proba = grid.predict_proba(X_test)[:, 1]\n",
    "\n",
    "best_f1 = 0\n",
    "best_thresh = 0.5\n",
    "for t in np.arange(0.1, 0.9, 0.05):\n",
    "    y_pred_temp = (y_proba >= t).astype(int)\n",
    "    tn, fp, fn, tp = confusion_matrix(y_test, y_pred_temp).ravel()\n",
    "    f1 = 2 * tp / (2 * tp + fp + fn + 1e-9)\n",
    "    if f1 > best_f1:\n",
    "        best_f1 = f1\n",
    "        best_thresh = t\n",
    "\n",
    "y_pred = (y_proba >= best_thresh).astype(int)\n",
    "\n",
    "print(f\"Best Threshold: {best_thresh:.2f}\")\n",
    "print(\"Best Params:\", grid.best_params_)\n",
    "print(\"Confusion Matrix:\\n\", confusion_matrix(y_test, y_pred))\n",
    "print(\"Classification Report:\\n\", classification_report(y_test, y_pred))\n",
    "print(\"ROC AUC Score:\", roc_auc_score(y_test, y_proba))"
   ]
  },
  {
   "cell_type": "code",
   "execution_count": null,
   "metadata": {},
   "outputs": [],
   "source": []
  }
 ],
 "metadata": {
  "kernelspec": {
   "display_name": "Python 3",
   "language": "python",
   "name": "python3"
  },
  "language_info": {
   "codemirror_mode": {
    "name": "ipython",
    "version": 3
   },
   "file_extension": ".py",
   "mimetype": "text/x-python",
   "name": "python",
   "nbconvert_exporter": "python",
   "pygments_lexer": "ipython3",
   "version": "3.11.4"
  }
 },
 "nbformat": 4,
 "nbformat_minor": 2
}
